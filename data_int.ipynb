{
 "cells": [
  {
   "cell_type": "code",
   "execution_count": 18,
   "id": "a4da088a",
   "metadata": {},
   "outputs": [
    {
     "name": "stdout",
     "output_type": "stream",
     "text": [
      "                    name\n",
      "0            orders_fact\n",
      "1          customers_dim\n",
      "2            ordesr_fact\n",
      "3            order_items\n",
      "4           products_dim\n",
      "5  customer_interactions\n",
      "6        marketing_spend\n"
     ]
    }
   ],
   "source": [
    "import pandas as pd\n",
    "import sqlite3\n",
    "\n",
    "# 1. Connect to sqlite db (creates file if not exists)\n",
    "conn = sqlite3.connect(\"ecommerce.db\")\n",
    "\n",
    "# 2. Load raw CSVs\n",
    "customers = pd.read_csv(\"customers_dim.csv\")\n",
    "orders = pd.read_csv(\"orders_fact.csv\")\n",
    "order_items = pd.read_csv(\"order_items.csv\")\n",
    "products = pd.read_csv(\"products_dim.csv\")\n",
    "interactions = pd.read_csv(\"customer_interactions.csv\")\n",
    "marketing = pd.read_csv(\"marketing_spend.csv\")\n",
    "\n",
    "# 3. Write them into SQLite tables\n",
    "customers.to_sql(\"customers_dim\", conn, if_exists=\"replace\", index=False)\n",
    "orders.to_sql(\"ordesr_fact\", conn, if_exists=\"replace\", index=False)\n",
    "order_items.to_sql(\"order_items\", conn, if_exists=\"replace\", index=False)\n",
    "products.to_sql(\"products_dim\", conn, if_exists=\"replace\", index=False)\n",
    "interactions.to_sql(\"customer_interactions\", conn, if_exists=\"replace\", index=False)\n",
    "marketing.to_sql(\"marketing_spend\", conn, if_exists=\"replace\", index=False)\n",
    "\n",
    "# 4. Verify tables exist\n",
    "print(pd.read_sql(\"SELECT name FROM sqlite_master WHERE type='table'\", conn))\n"
   ]
  },
  {
   "cell_type": "code",
   "execution_count": 27,
   "id": "28a23efa",
   "metadata": {},
   "outputs": [
    {
     "name": "stdout",
     "output_type": "stream",
     "text": [
      "   customer_id signup_date   cohort gender age_group acquisition_channel  \\\n",
      "0            1  2023-08-02  2023-08   Male     18-24            Referral   \n",
      "1            2  2021-05-16  2021-05   Male     25-34            Referral   \n",
      "2            3  2023-10-17  2023-10  Other     55-64             Organic   \n",
      "3            4  2020-03-06  2020-03   Male     18-24          Google Ads   \n",
      "4            5  2022-10-31  2022-10  Other     18-24               Email   \n",
      "\n",
      "   zipcode loyalty_status  \n",
      "0    62874            VIP  \n",
      "1    93957            New  \n",
      "2    36535         Lapsed  \n",
      "3    60352        Regular  \n",
      "4    13275        Regular  \n"
     ]
    }
   ],
   "source": [
    "df = pd.read_sql(\"SELECT * FROM customers_dim\", conn)\n",
    "print(df.head())\n"
   ]
  },
  {
   "cell_type": "code",
   "execution_count": 28,
   "id": "0fb5730a",
   "metadata": {},
   "outputs": [
    {
     "data": {
      "text/plain": [
       "<sqlite3.Cursor at 0x1653d5340>"
      ]
     },
     "execution_count": 28,
     "metadata": {},
     "output_type": "execute_result"
    }
   ],
   "source": [
    "cursor.execute(\"DROP VIEW IF EXISTS customer_rfm\")"
   ]
  },
  {
   "cell_type": "code",
   "execution_count": null,
   "id": "79306601",
   "metadata": {},
   "outputs": [],
   "source": [
    "query = \"\"\"\n",
    "CREATE TABLE customer_rfm AS\n",
    "SELECT\n",
    "    c.customer_id,\n",
    "    julianday('2025-01-01') - julianday(MAX(o.order_date)) AS recency_days,\n",
    "    COUNT(o.order_id) AS frequency,\n",
    "    SUM(o.order_amount - o.discount_amount) AS monetary,\n",
    "    AVG(o.order_amount) AS avg_order_value,\n",
    "    julianday('2025-01-01') - julianday(MIN(o.order_date)) AS tenure_days\n",
    "FROM customers_dim c\n",
    "LEFT JOIN orders_fact o ON c.customer_id = o.customer_id\n",
    "GROUP BY c.customer_id;\n",
    "\"\"\"\n",
    "conn.execute(query)\n",
    "conn.commit()"
   ]
  },
  {
   "cell_type": "code",
   "execution_count": 32,
   "id": "5f30978e",
   "metadata": {},
   "outputs": [],
   "source": [
    "df = pd.read_sql(\"SELECT * FROM customer_rfm\", conn)\n"
   ]
  },
  {
   "cell_type": "code",
   "execution_count": 33,
   "id": "0a0891b6",
   "metadata": {},
   "outputs": [
    {
     "name": "stdout",
     "output_type": "stream",
     "text": [
      "   customer_id  recency_days  frequency  monetary  avg_order_value  \\\n",
      "0            1         389.0          8   8741.29      1098.510000   \n",
      "1            2         471.0          5   7154.05      1434.656000   \n",
      "2            3         382.0          2   2879.12      1439.560000   \n",
      "3            4         426.0         44  91064.20      2076.277273   \n",
      "4            5         380.0         22  53925.91      2454.183636   \n",
      "\n",
      "   tenure_days  \n",
      "0        509.0  \n",
      "1       1078.0  \n",
      "2        384.0  \n",
      "3       1721.0  \n",
      "4        785.0  \n"
     ]
    }
   ],
   "source": [
    "print(df.head())"
   ]
  },
  {
   "cell_type": "code",
   "execution_count": 35,
   "id": "f253ed71",
   "metadata": {},
   "outputs": [
    {
     "data": {
      "text/plain": [
       "<sqlite3.Cursor at 0x1653d5340>"
      ]
     },
     "execution_count": 35,
     "metadata": {},
     "output_type": "execute_result"
    }
   ],
   "source": [
    "cursor.execute(\"DROP VIEW IF EXISTS customer_lifetime_value\")"
   ]
  },
  {
   "cell_type": "code",
   "execution_count": 36,
   "id": "5c1c6656",
   "metadata": {},
   "outputs": [],
   "source": [
    "query = \"\"\"\n",
    "CREATE TABLE customer_lifetime_value AS\n",
    "SELECT \n",
    "    c.customer_id,\n",
    "    SUM(o.order_amount - o.discount_amount) AS total_revenue,\n",
    "    SUM((oi.quantity * oi.price) - o.discount_amount) AS total_profit\n",
    "FROM customers_dim c\n",
    "LEFT JOIN orders_fact o ON c.customer_id = o.customer_id\n",
    "LEFT JOIN order_items oi ON o.order_id = oi.order_id\n",
    "GROUP BY c.customer_id;\n",
    "\"\"\"\n",
    "conn.execute(query)\n",
    "conn.commit() "
   ]
  },
  {
   "cell_type": "code",
   "execution_count": 37,
   "id": "52118f42",
   "metadata": {},
   "outputs": [
    {
     "data": {
      "text/plain": [
       "<sqlite3.Cursor at 0x1653d5340>"
      ]
     },
     "execution_count": 37,
     "metadata": {},
     "output_type": "execute_result"
    }
   ],
   "source": [
    "cursor.execute(\"DROP VIEW IF EXISTS segment_profitability\")"
   ]
  },
  {
   "cell_type": "code",
   "execution_count": 39,
   "id": "6fa4c354",
   "metadata": {},
   "outputs": [],
   "source": [
    "query = \"\"\"\n",
    "CREATE TABLE segment_profitability AS\n",
    "SELECT \n",
    "    c.customer_id,\n",
    "    c.age_group,\n",
    "    c.acquisition_channel,\n",
    "    c.loyalty_status,\n",
    "    SUM(o.order_amount - o.discount_amount) AS segment_profit\n",
    "FROM customers_dim c\n",
    "LEFT JOIN orders_fact o ON c.customer_id = o.customer_id\n",
    "WHERE o.order_status = 'Delivered'\n",
    "GROUP BY c.customer_id, c.age_group, c.acquisition_channel, c.loyalty_status;\n",
    "\"\"\"\n",
    "conn.execute(query)\n",
    "conn.commit() "
   ]
  },
  {
   "cell_type": "code",
   "execution_count": 41,
   "id": "de1e7952",
   "metadata": {},
   "outputs": [
    {
     "data": {
      "text/plain": [
       "<sqlite3.Cursor at 0x1653d5340>"
      ]
     },
     "execution_count": 41,
     "metadata": {},
     "output_type": "execute_result"
    }
   ],
   "source": [
    "cursor.execute(\"DROP VIEW IF EXISTS revenue_by_payment\")"
   ]
  },
  {
   "cell_type": "code",
   "execution_count": 43,
   "id": "dc9a8ebf",
   "metadata": {},
   "outputs": [],
   "source": [
    "query = \"\"\"\n",
    "CREATE TABLE revenue_by_payment AS\n",
    "SELECT \n",
    "    c.customer_id,\n",
    "    o.payment_method,\n",
    "    SUM(o.order_amount - o.discount_amount) AS revenue_payment_method\n",
    "FROM customers_dim c\n",
    "JOIN orders_fact o ON c.customer_id = o.customer_id\n",
    "WHERE o.order_status = 'Delivered'\n",
    "GROUP BY c.customer_id, o.payment_method;\n",
    "\"\"\"\n",
    "conn.execute(query)\n",
    "conn.commit() "
   ]
  },
  {
   "cell_type": "code",
   "execution_count": 44,
   "id": "448ad376",
   "metadata": {},
   "outputs": [
    {
     "data": {
      "text/plain": [
       "<sqlite3.Cursor at 0x1653d5340>"
      ]
     },
     "execution_count": 44,
     "metadata": {},
     "output_type": "execute_result"
    }
   ],
   "source": [
    "cursor.execute(\"DROP VIEW IF EXISTS repeat_purchase\")"
   ]
  },
  {
   "cell_type": "code",
   "execution_count": 46,
   "id": "1e6130b6",
   "metadata": {},
   "outputs": [],
   "source": [
    "query = \"\"\"\n",
    "CREATE TABLE repeat_purchase AS\n",
    "SELECT \n",
    "    c.customer_id,\n",
    "    CASE WHEN COUNT(o.order_id) > 1 THEN 1 ELSE 0 END AS repeat_buyer\n",
    "FROM customers_dim c\n",
    "LEFT JOIN orders_fact o ON c.customer_id = o.customer_id\n",
    "WHERE o.order_status = 'Delivered'\n",
    "GROUP BY c.customer_id;\n",
    "\"\"\"\n",
    "conn.execute(query)\n",
    "conn.commit() "
   ]
  },
  {
   "cell_type": "code",
   "execution_count": 47,
   "id": "2ccb6f00",
   "metadata": {},
   "outputs": [
    {
     "data": {
      "text/plain": [
       "<sqlite3.Cursor at 0x1653d5340>"
      ]
     },
     "execution_count": 47,
     "metadata": {},
     "output_type": "execute_result"
    }
   ],
   "source": [
    "cursor.execute(\"DROP VIEW IF EXISTS customer_engagement\")"
   ]
  },
  {
   "cell_type": "code",
   "execution_count": 48,
   "id": "5f44581a",
   "metadata": {},
   "outputs": [],
   "source": [
    "query = \"\"\"\n",
    "CREATE TABLE customer_engagement AS\n",
    "SELECT \n",
    "    c.customer_id,\n",
    "    COUNT(i.interaction_id) AS total_interactions,\n",
    "    SUM(CASE WHEN i.type = 'support' THEN 1 ELSE 0 END) AS support_tickets,\n",
    "    SUM(CASE WHEN i.type = 'return' THEN 1 ELSE 0 END) AS returns,\n",
    "    SUM(CASE WHEN i.type = 'review' THEN 1 ELSE 0 END) AS reviews\n",
    "FROM customers_dim c\n",
    "LEFT JOIN customer_interactions i ON c.customer_id = i.customer_id\n",
    "GROUP BY c.customer_id;\n",
    "\"\"\"\n",
    "conn.execute(query)\n",
    "conn.commit() "
   ]
  },
  {
   "cell_type": "code",
   "execution_count": 49,
   "id": "30da61b5",
   "metadata": {},
   "outputs": [
    {
     "data": {
      "text/plain": [
       "<sqlite3.Cursor at 0x1653d5340>"
      ]
     },
     "execution_count": 49,
     "metadata": {},
     "output_type": "execute_result"
    }
   ],
   "source": [
    "cursor.execute(\"DROP VIEW IF EXISTS marketing_influence\")"
   ]
  },
  {
   "cell_type": "code",
   "execution_count": 50,
   "id": "fe820294",
   "metadata": {},
   "outputs": [],
   "source": [
    "query = \"\"\"\n",
    "CREATE TABLE marketing_influence AS\n",
    "SELECT \n",
    "    c.customer_id,\n",
    "    c.acquisition_channel,\n",
    "    SUM(m.spend) AS total_spend,\n",
    "    SUM(m.impressions) AS total_impressions,\n",
    "    SUM(m.clicks) AS total_clicks\n",
    "FROM customers_dim c\n",
    "LEFT JOIN marketing_spend m ON c.acquisition_channel = m.channel\n",
    "GROUP BY c.customer_id, c.acquisition_channel;\n",
    "\"\"\"\n",
    "conn.execute(query)\n",
    "conn.commit() "
   ]
  },
  {
   "cell_type": "code",
   "execution_count": 57,
   "id": "a3a5c92b",
   "metadata": {},
   "outputs": [
    {
     "data": {
      "text/plain": [
       "<sqlite3.Cursor at 0x1653d5340>"
      ]
     },
     "execution_count": 57,
     "metadata": {},
     "output_type": "execute_result"
    }
   ],
   "source": [
    "cursor.execute(\"DROP VIEW IF EXISTS customer_features\")"
   ]
  },
  {
   "cell_type": "code",
   "execution_count": 58,
   "id": "58dea12a",
   "metadata": {},
   "outputs": [],
   "source": [
    "query = \"\"\"\n",
    "CREATE TABLE customer_features AS\n",
    "SELECT \n",
    "    c.customer_id,\n",
    "    c.signup_date,\n",
    "    c.cohort,\n",
    "    c.gender,\n",
    "    c.age_group,\n",
    "    c.acquisition_channel,\n",
    "    c.loyalty_status,\n",
    "\n",
    "    r.recency_days,\n",
    "    r.frequency,\n",
    "    r.monetary,\n",
    "\n",
    "    clv.total_revenue,\n",
    "    clv.total_profit,\n",
    "\n",
    "    sp.segment_profit,\n",
    "    rev.payment_method,\n",
    "    rev.revenue_payment_method,\n",
    "\n",
    "    rp.repeat_buyer,\n",
    "\n",
    "    ce.total_interactions,\n",
    "    ce.support_tickets,\n",
    "    ce.returns,\n",
    "    ce.reviews,\n",
    "\n",
    "    mi.total_spend AS marketing_spend,\n",
    "    mi.total_impressions,\n",
    "    mi.total_clicks\n",
    "FROM customers_dim c\n",
    "LEFT JOIN customer_rfm r ON c.customer_id = r.customer_id\n",
    "LEFT JOIN customer_lifetime_value clv ON c.customer_id = clv.customer_id\n",
    "LEFT JOIN segment_profitability sp ON c.customer_id = sp.customer_id\n",
    "LEFT JOIN revenue_by_payment rev ON c.customer_id = rev.customer_id\n",
    "LEFT JOIN repeat_purchase rp ON c.customer_id = rp.customer_id\n",
    "LEFT JOIN customer_engagement ce ON c.customer_id = ce.customer_id\n",
    "LEFT JOIN marketing_influence mi ON c.customer_id = mi.customer_id;\n",
    "\"\"\"\n",
    "conn.execute(query)\n",
    "conn.commit() "
   ]
  },
  {
   "cell_type": "code",
   "execution_count": 59,
   "id": "7acea065",
   "metadata": {},
   "outputs": [],
   "source": [
    "df = pd.read_sql(\"SELECT * FROM customer_features\", conn)"
   ]
  },
  {
   "cell_type": "code",
   "execution_count": 60,
   "id": "182e5b6f",
   "metadata": {},
   "outputs": [
    {
     "name": "stdout",
     "output_type": "stream",
     "text": [
      "   customer_id signup_date   cohort gender age_group acquisition_channel  \\\n",
      "0            1  2023-08-02  2023-08   Male     18-24            Referral   \n",
      "1            1  2023-08-02  2023-08   Male     18-24            Referral   \n",
      "2            1  2023-08-02  2023-08   Male     18-24            Referral   \n",
      "3            1  2023-08-02  2023-08   Male     18-24            Referral   \n",
      "4            1  2023-08-02  2023-08   Male     18-24            Referral   \n",
      "\n",
      "  loyalty_status  recency_days  frequency  monetary  ...  payment_method  \\\n",
      "0            VIP         389.0          8   8741.29  ...       Apple Pay   \n",
      "1            VIP         389.0          8   8741.29  ...   Bank Transfer   \n",
      "2            VIP         389.0          8   8741.29  ...     Credit Card   \n",
      "3            VIP         389.0          8   8741.29  ...      Google Pay   \n",
      "4            VIP         389.0          8   8741.29  ...          PayPal   \n",
      "\n",
      "   revenue_payment_method  repeat_buyer total_interactions  support_tickets  \\\n",
      "0                 2071.86           1.0                  3                1   \n",
      "1                 1722.62           1.0                  3                1   \n",
      "2                  857.64           1.0                  3                1   \n",
      "3                 1672.08           1.0                  3                1   \n",
      "4                 2309.54           1.0                  3                1   \n",
      "\n",
      "   returns  reviews  marketing_spend  total_impressions  total_clicks  \n",
      "0        1        1              NaN                NaN           NaN  \n",
      "1        1        1              NaN                NaN           NaN  \n",
      "2        1        1              NaN                NaN           NaN  \n",
      "3        1        1              NaN                NaN           NaN  \n",
      "4        1        1              NaN                NaN           NaN  \n",
      "\n",
      "[5 rows x 23 columns]\n"
     ]
    }
   ],
   "source": [
    "print(df.head())"
   ]
  }
 ],
 "metadata": {
  "kernelspec": {
   "display_name": "base",
   "language": "python",
   "name": "python3"
  },
  "language_info": {
   "codemirror_mode": {
    "name": "ipython",
    "version": 3
   },
   "file_extension": ".py",
   "mimetype": "text/x-python",
   "name": "python",
   "nbconvert_exporter": "python",
   "pygments_lexer": "ipython3",
   "version": "3.11.5"
  }
 },
 "nbformat": 4,
 "nbformat_minor": 5
}
